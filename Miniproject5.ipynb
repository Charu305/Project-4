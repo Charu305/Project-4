{
 "cells": [
  {
   "cell_type": "code",
   "execution_count": 1,
   "id": "8ef95255-28da-46ee-9f39-ebdbfd281349",
   "metadata": {},
   "outputs": [],
   "source": [
    "import pandas as pd\n",
    "\n",
    "sales_df=pd.read_csv(r'C:\\Users\\babuk\\Downloads\\Pizza_Sale.csv')\n",
    "Ingredients_df=pd.read_csv(r'C:\\Users\\babuk\\Downloads\\Pizza_ingredients.csv')"
   ]
  },
  {
   "cell_type": "code",
   "execution_count": 3,
   "id": "b38a6094-d30d-40f3-9b65-a7f8351ee2ae",
   "metadata": {},
   "outputs": [
    {
     "data": {
      "text/plain": [
       "pizza_id              0\n",
       "order_id              0\n",
       "pizza_name_id        16\n",
       "quantity              0\n",
       "order_date            0\n",
       "order_time            0\n",
       "unit_price            0\n",
       "total_price           7\n",
       "pizza_size            0\n",
       "pizza_category       23\n",
       "pizza_ingredients    13\n",
       "pizza_name            7\n",
       "dtype: int64"
      ]
     },
     "execution_count": 3,
     "metadata": {},
     "output_type": "execute_result"
    }
   ],
   "source": [
    "sales_df.isnull().sum()"
   ]
  },
  {
   "cell_type": "code",
   "execution_count": 5,
   "id": "c1263e0b-3427-4947-8e68-5dcc0c72b395",
   "metadata": {},
   "outputs": [
    {
     "data": {
      "text/html": [
       "<div>\n",
       "<style scoped>\n",
       "    .dataframe tbody tr th:only-of-type {\n",
       "        vertical-align: middle;\n",
       "    }\n",
       "\n",
       "    .dataframe tbody tr th {\n",
       "        vertical-align: top;\n",
       "    }\n",
       "\n",
       "    .dataframe thead th {\n",
       "        text-align: right;\n",
       "    }\n",
       "</style>\n",
       "<table border=\"1\" class=\"dataframe\">\n",
       "  <thead>\n",
       "    <tr style=\"text-align: right;\">\n",
       "      <th></th>\n",
       "      <th>pizza_id</th>\n",
       "      <th>order_id</th>\n",
       "      <th>pizza_name_id</th>\n",
       "      <th>quantity</th>\n",
       "      <th>order_date</th>\n",
       "      <th>order_time</th>\n",
       "      <th>unit_price</th>\n",
       "      <th>total_price</th>\n",
       "      <th>pizza_size</th>\n",
       "      <th>pizza_category</th>\n",
       "      <th>pizza_ingredients</th>\n",
       "      <th>pizza_name</th>\n",
       "    </tr>\n",
       "  </thead>\n",
       "  <tbody>\n",
       "    <tr>\n",
       "      <th>0</th>\n",
       "      <td>1</td>\n",
       "      <td>1</td>\n",
       "      <td>hawaiian_m</td>\n",
       "      <td>1</td>\n",
       "      <td>1/1/2015</td>\n",
       "      <td>11:38:36</td>\n",
       "      <td>13.25</td>\n",
       "      <td>13.25</td>\n",
       "      <td>M</td>\n",
       "      <td>Classic</td>\n",
       "      <td>Sliced Ham, Pineapple, Mozzarella Cheese</td>\n",
       "      <td>The Hawaiian Pizza</td>\n",
       "    </tr>\n",
       "    <tr>\n",
       "      <th>1</th>\n",
       "      <td>2</td>\n",
       "      <td>2</td>\n",
       "      <td>classic_dlx_m</td>\n",
       "      <td>1</td>\n",
       "      <td>1/1/2015</td>\n",
       "      <td>11:57:40</td>\n",
       "      <td>16.00</td>\n",
       "      <td>16.00</td>\n",
       "      <td>M</td>\n",
       "      <td>Classic</td>\n",
       "      <td>Pepperoni, Mushrooms, Red Onions, Red Peppers,...</td>\n",
       "      <td>The Classic Deluxe Pizza</td>\n",
       "    </tr>\n",
       "    <tr>\n",
       "      <th>2</th>\n",
       "      <td>3</td>\n",
       "      <td>2</td>\n",
       "      <td>five_cheese_l</td>\n",
       "      <td>1</td>\n",
       "      <td>1/1/2015</td>\n",
       "      <td>11:57:40</td>\n",
       "      <td>18.50</td>\n",
       "      <td>18.50</td>\n",
       "      <td>L</td>\n",
       "      <td>Veggie</td>\n",
       "      <td>Mozzarella Cheese, Provolone Cheese, Smoked Go...</td>\n",
       "      <td>The Five Cheese Pizza</td>\n",
       "    </tr>\n",
       "    <tr>\n",
       "      <th>3</th>\n",
       "      <td>4</td>\n",
       "      <td>2</td>\n",
       "      <td>ital_supr_l</td>\n",
       "      <td>1</td>\n",
       "      <td>1/1/2015</td>\n",
       "      <td>11:57:40</td>\n",
       "      <td>20.75</td>\n",
       "      <td>20.75</td>\n",
       "      <td>L</td>\n",
       "      <td>Supreme</td>\n",
       "      <td>Calabrese Salami, Capocollo, Tomatoes, Red Oni...</td>\n",
       "      <td>The Italian Supreme Pizza</td>\n",
       "    </tr>\n",
       "    <tr>\n",
       "      <th>4</th>\n",
       "      <td>5</td>\n",
       "      <td>2</td>\n",
       "      <td>mexicana_m</td>\n",
       "      <td>1</td>\n",
       "      <td>1/1/2015</td>\n",
       "      <td>11:57:40</td>\n",
       "      <td>16.00</td>\n",
       "      <td>16.00</td>\n",
       "      <td>M</td>\n",
       "      <td>Veggie</td>\n",
       "      <td>Tomatoes, Red Peppers, Jalapeno Peppers, Red O...</td>\n",
       "      <td>The Mexicana Pizza</td>\n",
       "    </tr>\n",
       "  </tbody>\n",
       "</table>\n",
       "</div>"
      ],
      "text/plain": [
       "   pizza_id  order_id  pizza_name_id  quantity order_date order_time  \\\n",
       "0         1         1     hawaiian_m         1   1/1/2015   11:38:36   \n",
       "1         2         2  classic_dlx_m         1   1/1/2015   11:57:40   \n",
       "2         3         2  five_cheese_l         1   1/1/2015   11:57:40   \n",
       "3         4         2    ital_supr_l         1   1/1/2015   11:57:40   \n",
       "4         5         2     mexicana_m         1   1/1/2015   11:57:40   \n",
       "\n",
       "   unit_price  total_price pizza_size pizza_category  \\\n",
       "0       13.25        13.25          M        Classic   \n",
       "1       16.00        16.00          M        Classic   \n",
       "2       18.50        18.50          L         Veggie   \n",
       "3       20.75        20.75          L        Supreme   \n",
       "4       16.00        16.00          M         Veggie   \n",
       "\n",
       "                                   pizza_ingredients  \\\n",
       "0           Sliced Ham, Pineapple, Mozzarella Cheese   \n",
       "1  Pepperoni, Mushrooms, Red Onions, Red Peppers,...   \n",
       "2  Mozzarella Cheese, Provolone Cheese, Smoked Go...   \n",
       "3  Calabrese Salami, Capocollo, Tomatoes, Red Oni...   \n",
       "4  Tomatoes, Red Peppers, Jalapeno Peppers, Red O...   \n",
       "\n",
       "                  pizza_name  \n",
       "0         The Hawaiian Pizza  \n",
       "1   The Classic Deluxe Pizza  \n",
       "2      The Five Cheese Pizza  \n",
       "3  The Italian Supreme Pizza  \n",
       "4         The Mexicana Pizza  "
      ]
     },
     "execution_count": 5,
     "metadata": {},
     "output_type": "execute_result"
    }
   ],
   "source": [
    "sales_df.head()"
   ]
  },
  {
   "cell_type": "code",
   "execution_count": 7,
   "id": "5630e834-c010-4d35-968d-ee3267c2fc81",
   "metadata": {},
   "outputs": [],
   "source": [
    "ingredients_mapping = sales_df[['pizza_name', 'pizza_ingredients']].dropna().drop_duplicates()"
   ]
  },
  {
   "cell_type": "code",
   "execution_count": 9,
   "id": "4e17785d-c508-4c7d-9e22-14810b010051",
   "metadata": {},
   "outputs": [],
   "source": [
    "# convert it into dictionary\n",
    "ingredients_mapping = ingredients_mapping.set_index('pizza_name')['pizza_ingredients'].to_dict()"
   ]
  },
  {
   "cell_type": "code",
   "execution_count": 11,
   "id": "d2ca3a57-aea8-406d-a300-6fde41e1507b",
   "metadata": {},
   "outputs": [],
   "source": [
    "# map the values accordingly to fill the nulls\n",
    "sales_df['pizza_ingredients'] = sales_df['pizza_ingredients'].fillna(sales_df['pizza_name'].map(ingredients_mapping))"
   ]
  },
  {
   "cell_type": "code",
   "execution_count": 13,
   "id": "713ff2be-cfb4-4abd-9a3d-262c05045f92",
   "metadata": {},
   "outputs": [
    {
     "data": {
      "text/plain": [
       "pizza_name_id         0\n",
       "pizza_name            0\n",
       "pizza_ingredients     0\n",
       "Items_Qty_In_Grams    4\n",
       "dtype: int64"
      ]
     },
     "execution_count": 13,
     "metadata": {},
     "output_type": "execute_result"
    }
   ],
   "source": [
    "Ingredients_df.isnull().sum()"
   ]
  },
  {
   "cell_type": "code",
   "execution_count": 15,
   "id": "2e735caf-43e1-4a4c-aa96-3fcb87c98065",
   "metadata": {},
   "outputs": [
    {
     "data": {
      "text/plain": [
       "pizza_id              0\n",
       "order_id              0\n",
       "pizza_name_id        16\n",
       "quantity              0\n",
       "order_date            0\n",
       "order_time            0\n",
       "unit_price            0\n",
       "total_price           7\n",
       "pizza_size            0\n",
       "pizza_category       23\n",
       "pizza_ingredients     0\n",
       "pizza_name            7\n",
       "dtype: int64"
      ]
     },
     "execution_count": 15,
     "metadata": {},
     "output_type": "execute_result"
    }
   ],
   "source": [
    "sales_df.isnull().sum()"
   ]
  },
  {
   "cell_type": "code",
   "execution_count": 17,
   "id": "e7ab131f-56c8-4b17-be59-bd1e5960134f",
   "metadata": {},
   "outputs": [],
   "source": [
    "name_mapping = sales_df[['pizza_name', 'pizza_name_id']].dropna().drop_duplicates()"
   ]
  },
  {
   "cell_type": "code",
   "execution_count": 19,
   "id": "1842d354-11ff-45ff-a538-19815a862f50",
   "metadata": {},
   "outputs": [],
   "source": [
    "name_mapping = name_mapping.set_index('pizza_name')['pizza_name_id'].to_dict()"
   ]
  },
  {
   "cell_type": "code",
   "execution_count": 21,
   "id": "21eabaa1-944d-473f-b2e0-83272288c65c",
   "metadata": {},
   "outputs": [],
   "source": [
    "sales_df['pizza_name_id'] = sales_df['pizza_name_id'].fillna(sales_df['pizza_name'].map(name_mapping))"
   ]
  },
  {
   "cell_type": "code",
   "execution_count": 23,
   "id": "039fab6e-45e3-482b-a0e0-9344a9513c35",
   "metadata": {},
   "outputs": [],
   "source": [
    "category_mapping = sales_df[['pizza_name', 'pizza_category']].dropna().drop_duplicates()"
   ]
  },
  {
   "cell_type": "code",
   "execution_count": 25,
   "id": "e19c47bd-492f-4fce-ad37-49b78c83c611",
   "metadata": {},
   "outputs": [],
   "source": [
    "category_mapping = category_mapping.set_index('pizza_name')['pizza_category'].to_dict()"
   ]
  },
  {
   "cell_type": "code",
   "execution_count": 27,
   "id": "4167c086-1690-49ca-856f-379209f8e528",
   "metadata": {},
   "outputs": [],
   "source": [
    "sales_df['pizza_category'] = sales_df['pizza_category'].fillna(sales_df['pizza_name'].map(category_mapping))"
   ]
  },
  {
   "cell_type": "code",
   "execution_count": 29,
   "id": "02a27071-1b33-49a0-ad6b-2bc78bed1043",
   "metadata": {},
   "outputs": [],
   "source": [
    "nameid_mapping = sales_df[['pizza_name_id', 'pizza_name']].dropna().drop_duplicates()"
   ]
  },
  {
   "cell_type": "code",
   "execution_count": 31,
   "id": "8e542874-c8c5-479f-9fc2-74c72adb7e2f",
   "metadata": {},
   "outputs": [],
   "source": [
    "nameid_mapping = nameid_mapping.set_index('pizza_name_id')['pizza_name'].to_dict()"
   ]
  },
  {
   "cell_type": "code",
   "execution_count": 33,
   "id": "8da1edf6-688f-4b7c-8a09-d9a18236fa9c",
   "metadata": {},
   "outputs": [],
   "source": [
    "sales_df['pizza_name'] = sales_df['pizza_name'].fillna(sales_df['pizza_name_id'].map(nameid_mapping))"
   ]
  },
  {
   "cell_type": "code",
   "execution_count": 35,
   "id": "07af8428-137f-4e3e-9f80-beaf7d7b1ff5",
   "metadata": {},
   "outputs": [],
   "source": [
    "price_mapping = sales_df[['pizza_name_id', 'total_price']].dropna().drop_duplicates()"
   ]
  },
  {
   "cell_type": "code",
   "execution_count": 37,
   "id": "7ae70eec-22fa-407f-bf00-bc26f5533bc1",
   "metadata": {},
   "outputs": [],
   "source": [
    "price_mapping = price_mapping.set_index('pizza_name_id')['total_price'].to_dict()"
   ]
  },
  {
   "cell_type": "code",
   "execution_count": 39,
   "id": "32191a21-32b0-4132-99dc-3ecfbe183627",
   "metadata": {},
   "outputs": [],
   "source": [
    "sales_df['total_price'] = sales_df['total_price'].fillna(sales_df['pizza_name_id'].map(price_mapping))"
   ]
  },
  {
   "cell_type": "code",
   "execution_count": 41,
   "id": "f39a9c9c-2b18-42eb-b587-7d10da7ec045",
   "metadata": {},
   "outputs": [],
   "source": [
    "Items_mapping = Ingredients_df[['pizza_name_id', 'Items_Qty_In_Grams']].dropna().drop_duplicates()"
   ]
  },
  {
   "cell_type": "code",
   "execution_count": 43,
   "id": "509f6e87-3c44-4e28-895d-525e4f41adff",
   "metadata": {},
   "outputs": [],
   "source": [
    "Items_mapping = Items_mapping.set_index('pizza_name_id')['Items_Qty_In_Grams'].to_dict()"
   ]
  },
  {
   "cell_type": "code",
   "execution_count": 45,
   "id": "08643beb-2cd3-4f01-bfa3-da4a8ac20542",
   "metadata": {},
   "outputs": [],
   "source": [
    "Ingredients_df['Items_Qty_In_Grams'] = Ingredients_df['Items_Qty_In_Grams'].fillna(Ingredients_df['pizza_name_id'].map(Items_mapping))"
   ]
  },
  {
   "cell_type": "code",
   "execution_count": 47,
   "id": "86039c28-df50-4fbf-b984-551c7d20c020",
   "metadata": {},
   "outputs": [
    {
     "name": "stdout",
     "output_type": "stream",
     "text": [
      "<class 'pandas.core.frame.DataFrame'>\n",
      "RangeIndex: 518 entries, 0 to 517\n",
      "Data columns (total 4 columns):\n",
      " #   Column              Non-Null Count  Dtype  \n",
      "---  ------              --------------  -----  \n",
      " 0   pizza_name_id       518 non-null    object \n",
      " 1   pizza_name          518 non-null    object \n",
      " 2   pizza_ingredients   518 non-null    object \n",
      " 3   Items_Qty_In_Grams  518 non-null    float64\n",
      "dtypes: float64(1), object(3)\n",
      "memory usage: 16.3+ KB\n"
     ]
    }
   ],
   "source": [
    "Ingredients_df.info()"
   ]
  },
  {
   "cell_type": "code",
   "execution_count": 49,
   "id": "3525d229-2753-4231-96a9-e1a8fdd559ef",
   "metadata": {},
   "outputs": [
    {
     "name": "stdout",
     "output_type": "stream",
     "text": [
      "<class 'pandas.core.frame.DataFrame'>\n",
      "RangeIndex: 48620 entries, 0 to 48619\n",
      "Data columns (total 12 columns):\n",
      " #   Column             Non-Null Count  Dtype  \n",
      "---  ------             --------------  -----  \n",
      " 0   pizza_id           48620 non-null  int64  \n",
      " 1   order_id           48620 non-null  int64  \n",
      " 2   pizza_name_id      48620 non-null  object \n",
      " 3   quantity           48620 non-null  int64  \n",
      " 4   order_date         48620 non-null  object \n",
      " 5   order_time         48620 non-null  object \n",
      " 6   unit_price         48620 non-null  float64\n",
      " 7   total_price        48620 non-null  float64\n",
      " 8   pizza_size         48620 non-null  object \n",
      " 9   pizza_category     48620 non-null  object \n",
      " 10  pizza_ingredients  48620 non-null  object \n",
      " 11  pizza_name         48620 non-null  object \n",
      "dtypes: float64(2), int64(3), object(7)\n",
      "memory usage: 4.5+ MB\n"
     ]
    }
   ],
   "source": [
    "sales_df.info()"
   ]
  },
  {
   "cell_type": "code",
   "execution_count": 51,
   "id": "899c118f-3ee7-4c7e-b507-574a5aa3bc0c",
   "metadata": {},
   "outputs": [
    {
     "data": {
      "image/png": "[encoded data removed]",
      "text/plain": [
       "<Figure size 1200x500 with 1 Axes>"
      ]
     },
     "metadata": {},
     "output_type": "display_data"
    }
   ],
   "source": [
    "import matplotlib.pyplot as plt\n",
    "import seaborn as sns\n",
    "\n",
    "top_pizzas = sales_df.groupby('pizza_name')['quantity'].sum().sort_values(ascending=False).head(10)\n",
    "\n",
    "plt.figure(figsize=(12, 5))\n",
    "top_pizzas.plot(kind='bar', color='skyblue')\n",
    "plt.title('Top 10 Best-Selling Pizzas')\n",
    "plt.xlabel('Pizza Name')\n",
    "plt.ylabel('Total Quantity Sold')\n",
    "plt.xticks(rotation=45)\n",
    "plt.show()"
   ]
  },
  {
   "cell_type": "code",
   "execution_count": 52,
   "id": "00d7c60a-ebc6-4975-b3b9-16c7e4fa165c",
   "metadata": {},
   "outputs": [
    {
     "data": {
      "image/png": "[encoded data removed]",
      "text/plain": [
       "<Figure size 1000x500 with 1 Axes>"
      ]
     },
     "metadata": {},
     "output_type": "display_data"
    }
   ],
   "source": [
    "top_ingredients = Ingredients_df['pizza_ingredients'].str.split(', ').explode().value_counts().head(10)\n",
    "\n",
    "plt.figure(figsize=(10, 5))\n",
    "top_ingredients.plot(kind='bar', color='coral')\n",
    "plt.title('Most Used Ingredients')\n",
    "plt.xlabel('Ingredient')\n",
    "plt.ylabel('Usage Count')\n",
    "plt.xticks(rotation=45)\n",
    "plt.show()"
   ]
  },
  {
   "cell_type": "code",
   "execution_count": 53,
   "id": "7ccc2d5e-54de-4b70-af2b-506196594a43",
   "metadata": {},
   "outputs": [
    {
     "data": {
      "image/png": "[encoded data removed]",
      "text/plain": [
       "<Figure size 800x400 with 1 Axes>"
      ]
     },
     "metadata": {},
     "output_type": "display_data"
    }
   ],
   "source": [
    "plt.figure(figsize=(8, 4))\n",
    "sns.boxplot(x='pizza_category', y='total_price', data=sales_df)\n",
    "plt.title('Sales Distribution by Pizza Category')\n",
    "plt.xlabel('Pizza Category')\n",
    "plt.ylabel('Sales')\n",
    "plt.show()"
   ]
  },
  {
   "cell_type": "code",
   "execution_count": 53,
   "id": "d6962474-ca37-424f-b60b-b0cad17acb61",
   "metadata": {},
   "outputs": [],
   "source": [
    "sales_df1=sales_df.copy()"
   ]
  },
  {
   "cell_type": "code",
   "execution_count": 113,
   "id": "b7a3028e-21b8-45d2-9f6f-1a0f40fccb6e",
   "metadata": {},
   "outputs": [],
   "source": [
    "sales_df['order_date'] = sales_df['order_date'].astype(str).replace(\n",
    "    to_replace=r'(\\d{1,2})/(\\d{1,2})/(\\d{4})',\n",
    "    value=r'\\1-\\2-\\3',  # Just replaces / with -\n",
    "    regex=True\n",
    ")"
   ]
  },
  {
   "cell_type": "code",
   "execution_count": 55,
   "id": "536559dd-d941-4296-ae90-0c95835aaa41",
   "metadata": {},
   "outputs": [],
   "source": [
    "sales_df['order_date'] = sales_df['order_date'].astype(str).replace(\n",
    "    to_replace=r'(\\d{1,2})/(\\d{1,2})/(\\d{4})',\n",
    "    value=r'\\1-\\2-\\3',\n",
    "    regex=True\n",
    ")\n",
    "\n",
    "# Step 2: Format all dates to DD-MM-YYYY with leading zeros\n",
    "sales_df['order_date'] = pd.to_datetime(sales_df['order_date'], format='%d-%m-%Y').dt.strftime('%d-%m-%Y')"
   ]
  },
  {
   "cell_type": "code",
   "execution_count": 57,
   "id": "78b58858-7c3b-4ec5-bedf-c11f86c40c0f",
   "metadata": {},
   "outputs": [],
   "source": [
    "sales_df['week_number'] = pd.to_datetime(sales_df['order_date'], format='%d-%m-%Y').dt.isocalendar().week"
   ]
  },
  {
   "cell_type": "code",
   "execution_count": 59,
   "id": "5b47b476-2508-439d-a9b0-b698b0ed8084",
   "metadata": {},
   "outputs": [
    {
     "data": {
      "text/plain": [
       "<IntegerArray>\n",
       "[ 1,  2,  3,  4,  5,  6,  7,  8,  9, 10, 11, 12, 13, 14, 15, 16, 17, 18, 19,\n",
       " 20, 21, 22, 23, 24, 25, 26, 27, 28, 29, 30, 31, 32, 33, 34, 35, 36, 37, 38,\n",
       " 39, 40, 41, 42, 43, 44, 45, 46, 47, 48, 49, 50, 51, 52, 53]\n",
       "Length: 53, dtype: UInt32"
      ]
     },
     "execution_count": 59,
     "metadata": {},
     "output_type": "execute_result"
    }
   ],
   "source": [
    "sales_df['week_number'].unique()"
   ]
  },
  {
   "cell_type": "code",
   "execution_count": 79,
   "id": "91a62e13-ca4b-411a-804d-ce163687936b",
   "metadata": {},
   "outputs": [
    {
     "name": "stdout",
     "output_type": "stream",
     "text": [
      "<class 'pandas.core.frame.DataFrame'>\n",
      "RangeIndex: 518 entries, 0 to 517\n",
      "Data columns (total 4 columns):\n",
      " #   Column              Non-Null Count  Dtype  \n",
      "---  ------              --------------  -----  \n",
      " 0   pizza_name_id       518 non-null    object \n",
      " 1   pizza_name          518 non-null    object \n",
      " 2   pizza_ingredients   518 non-null    object \n",
      " 3   Items_Qty_In_Grams  518 non-null    float64\n",
      "dtypes: float64(1), object(3)\n",
      "memory usage: 16.3+ KB\n"
     ]
    }
   ],
   "source": [
    "Ingredients_df.info()"
   ]
  },
  {
   "cell_type": "code",
   "execution_count": 77,
   "id": "b843d1a6-6604-4146-b2b1-1657d008eaf4",
   "metadata": {},
   "outputs": [],
   "source": [
    "sales_df=aftercol_df.copy()"
   ]
  },
  {
   "cell_type": "code",
   "execution_count": 81,
   "id": "8ebb648d-0e8b-487a-9ea6-177010190056",
   "metadata": {},
   "outputs": [],
   "source": [
    "Ingredients_df['pizza_ingredients'] = Ingredients_df['pizza_ingredients'].replace('?duja Salami', 'Nduja Salami')"
   ]
  },
  {
   "cell_type": "code",
   "execution_count": 83,
   "id": "e221e2f3-4ead-4bea-b56f-a9671590ae42",
   "metadata": {},
   "outputs": [],
   "source": [
    "sales_df.drop(['pizza_id', 'order_id', 'pizza_ingredients', 'pizza_name'], axis=1, inplace=True)"
   ]
  },
  {
   "cell_type": "code",
   "execution_count": 85,
   "id": "bd81ab79-cb76-4d65-8167-3268afd64033",
   "metadata": {},
   "outputs": [],
   "source": [
    "# Group by pizza_name_id and week_number and calculate total sales (or any other aggregation)\n",
    "grouped_df = sales_df.groupby(['pizza_name_id', 'week_number']).agg({'quantity': 'sum'}).reset_index()"
   ]
  },
  {
   "cell_type": "code",
   "execution_count": 87,
   "id": "172a4854-c6c7-4a8c-bfa9-44ecff63f7bd",
   "metadata": {},
   "outputs": [
    {
     "data": {
      "text/html": [
       "<div>\n",
       "<style scoped>\n",
       "    .dataframe tbody tr th:only-of-type {\n",
       "        vertical-align: middle;\n",
       "    }\n",
       "\n",
       "    .dataframe tbody tr th {\n",
       "        vertical-align: top;\n",
       "    }\n",
       "\n",
       "    .dataframe thead th {\n",
       "        text-align: right;\n",
       "    }\n",
       "</style>\n",
       "<table border=\"1\" class=\"dataframe\">\n",
       "  <thead>\n",
       "    <tr style=\"text-align: right;\">\n",
       "      <th></th>\n",
       "      <th>pizza_name_id</th>\n",
       "      <th>week_number</th>\n",
       "      <th>quantity</th>\n",
       "    </tr>\n",
       "  </thead>\n",
       "  <tbody>\n",
       "    <tr>\n",
       "      <th>0</th>\n",
       "      <td>bbq_ckn_l</td>\n",
       "      <td>1</td>\n",
       "      <td>17</td>\n",
       "    </tr>\n",
       "    <tr>\n",
       "      <th>1</th>\n",
       "      <td>bbq_ckn_l</td>\n",
       "      <td>2</td>\n",
       "      <td>13</td>\n",
       "    </tr>\n",
       "    <tr>\n",
       "      <th>2</th>\n",
       "      <td>bbq_ckn_l</td>\n",
       "      <td>3</td>\n",
       "      <td>25</td>\n",
       "    </tr>\n",
       "    <tr>\n",
       "      <th>3</th>\n",
       "      <td>bbq_ckn_l</td>\n",
       "      <td>4</td>\n",
       "      <td>15</td>\n",
       "    </tr>\n",
       "    <tr>\n",
       "      <th>4</th>\n",
       "      <td>bbq_ckn_l</td>\n",
       "      <td>5</td>\n",
       "      <td>29</td>\n",
       "    </tr>\n",
       "    <tr>\n",
       "      <th>...</th>\n",
       "      <td>...</td>\n",
       "      <td>...</td>\n",
       "      <td>...</td>\n",
       "    </tr>\n",
       "    <tr>\n",
       "      <th>4750</th>\n",
       "      <td>veggie_veg_s</td>\n",
       "      <td>49</td>\n",
       "      <td>12</td>\n",
       "    </tr>\n",
       "    <tr>\n",
       "      <th>4751</th>\n",
       "      <td>veggie_veg_s</td>\n",
       "      <td>50</td>\n",
       "      <td>9</td>\n",
       "    </tr>\n",
       "    <tr>\n",
       "      <th>4752</th>\n",
       "      <td>veggie_veg_s</td>\n",
       "      <td>51</td>\n",
       "      <td>6</td>\n",
       "    </tr>\n",
       "    <tr>\n",
       "      <th>4753</th>\n",
       "      <td>veggie_veg_s</td>\n",
       "      <td>52</td>\n",
       "      <td>6</td>\n",
       "    </tr>\n",
       "    <tr>\n",
       "      <th>4754</th>\n",
       "      <td>veggie_veg_s</td>\n",
       "      <td>53</td>\n",
       "      <td>9</td>\n",
       "    </tr>\n",
       "  </tbody>\n",
       "</table>\n",
       "<p>4755 rows × 3 columns</p>\n",
       "</div>"
      ],
      "text/plain": [
       "     pizza_name_id  week_number  quantity\n",
       "0        bbq_ckn_l            1        17\n",
       "1        bbq_ckn_l            2        13\n",
       "2        bbq_ckn_l            3        25\n",
       "3        bbq_ckn_l            4        15\n",
       "4        bbq_ckn_l            5        29\n",
       "...            ...          ...       ...\n",
       "4750  veggie_veg_s           49        12\n",
       "4751  veggie_veg_s           50         9\n",
       "4752  veggie_veg_s           51         6\n",
       "4753  veggie_veg_s           52         6\n",
       "4754  veggie_veg_s           53         9\n",
       "\n",
       "[4755 rows x 3 columns]"
      ]
     },
     "execution_count": 87,
     "metadata": {},
     "output_type": "execute_result"
    }
   ],
   "source": [
    "grouped_df"
   ]
  },
  {
   "cell_type": "code",
   "execution_count": 89,
   "id": "88a54cd8-a379-491b-83f5-d925a0c95fe7",
   "metadata": {},
   "outputs": [],
   "source": [
    "pizza_dfs = {}\n",
    "pizza_ids = grouped_df['pizza_name_id'].unique()\n",
    "\n",
    "for pizza in pizza_ids:\n",
    "    pizza_dfs[pizza] = grouped_df[grouped_df['pizza_name_id'] == pizza].reset_index(drop=True)"
   ]
  },
  {
   "cell_type": "code",
   "execution_count": 91,
   "id": "2a9a0f98-d191-4cd1-ba97-5d98af957d32",
   "metadata": {},
   "outputs": [
    {
     "name": "stderr",
     "output_type": "stream",
     "text": [
      "21:52:53 - cmdstanpy - INFO - Chain [1] start processing\n",
      "21:52:53 - cmdstanpy - INFO - Chain [1] done processing\n",
      "21:52:53 - cmdstanpy - INFO - Chain [1] start processing\n",
      "21:52:53 - cmdstanpy - INFO - Chain [1] done processing\n",
      "21:52:54 - cmdstanpy - INFO - Chain [1] start processing\n",
      "21:52:54 - cmdstanpy - INFO - Chain [1] done processing\n",
      "21:52:57 - cmdstanpy - INFO - Chain [1] start processing\n",
      "21:52:58 - cmdstanpy - INFO - Chain [1] done processing\n",
      "21:52:58 - cmdstanpy - INFO - Chain [1] start processing\n",
      "21:52:58 - cmdstanpy - INFO - Chain [1] done processing\n",
      "21:52:58 - cmdstanpy - INFO - Chain [1] start processing\n",
      "21:52:59 - cmdstanpy - INFO - Chain [1] done processing\n",
      "21:52:59 - cmdstanpy - INFO - Chain [1] start processing\n",
      "21:52:59 - cmdstanpy - INFO - Chain [1] done processing\n",
      "21:52:59 - cmdstanpy - INFO - Chain [1] start processing\n",
      "21:53:00 - cmdstanpy - INFO - Chain [1] done processing\n",
      "21:53:00 - cmdstanpy - INFO - Chain [1] start processing\n",
      "21:53:00 - cmdstanpy - INFO - Chain [1] done processing\n",
      "21:53:00 - cmdstanpy - INFO - Chain [1] start processing\n",
      "21:53:00 - cmdstanpy - INFO - Chain [1] done processing\n",
      "21:53:01 - cmdstanpy - INFO - Chain [1] start processing\n",
      "21:53:01 - cmdstanpy - INFO - Chain [1] done processing\n",
      "21:53:01 - cmdstanpy - INFO - Chain [1] start processing\n",
      "21:53:01 - cmdstanpy - INFO - Chain [1] done processing\n",
      "21:53:02 - cmdstanpy - INFO - Chain [1] start processing\n",
      "21:53:02 - cmdstanpy - INFO - Chain [1] done processing\n",
      "21:53:03 - cmdstanpy - INFO - Chain [1] start processing\n",
      "21:53:03 - cmdstanpy - INFO - Chain [1] done processing\n",
      "21:53:05 - cmdstanpy - INFO - Chain [1] start processing\n",
      "21:53:05 - cmdstanpy - INFO - Chain [1] done processing\n",
      "21:53:05 - cmdstanpy - INFO - Chain [1] start processing\n",
      "21:53:05 - cmdstanpy - INFO - Chain [1] done processing\n",
      "21:53:06 - cmdstanpy - INFO - Chain [1] start processing\n",
      "21:53:06 - cmdstanpy - INFO - Chain [1] done processing\n",
      "21:53:06 - cmdstanpy - INFO - Chain [1] start processing\n",
      "21:53:06 - cmdstanpy - INFO - Chain [1] done processing\n",
      "21:53:06 - cmdstanpy - INFO - Chain [1] start processing\n",
      "21:53:06 - cmdstanpy - INFO - Chain [1] done processing\n",
      "21:53:07 - cmdstanpy - INFO - Chain [1] start processing\n",
      "21:53:07 - cmdstanpy - INFO - Chain [1] done processing\n",
      "21:53:07 - cmdstanpy - INFO - Chain [1] start processing\n",
      "21:53:07 - cmdstanpy - INFO - Chain [1] done processing\n",
      "21:53:08 - cmdstanpy - INFO - Chain [1] start processing\n",
      "21:53:08 - cmdstanpy - INFO - Chain [1] done processing\n",
      "21:53:08 - cmdstanpy - INFO - Chain [1] start processing\n",
      "21:53:08 - cmdstanpy - INFO - Chain [1] done processing\n",
      "21:53:08 - cmdstanpy - INFO - Chain [1] start processing\n",
      "21:53:09 - cmdstanpy - INFO - Chain [1] done processing\n",
      "21:53:09 - cmdstanpy - INFO - Chain [1] start processing\n",
      "21:53:09 - cmdstanpy - INFO - Chain [1] done processing\n",
      "21:53:09 - cmdstanpy - INFO - Chain [1] start processing\n",
      "21:53:09 - cmdstanpy - INFO - Chain [1] done processing\n",
      "21:53:10 - cmdstanpy - INFO - Chain [1] start processing\n",
      "21:53:11 - cmdstanpy - INFO - Chain [1] done processing\n",
      "21:53:12 - cmdstanpy - INFO - Chain [1] start processing\n",
      "21:53:13 - cmdstanpy - INFO - Chain [1] done processing\n",
      "21:53:13 - cmdstanpy - INFO - Chain [1] start processing\n",
      "21:53:13 - cmdstanpy - INFO - Chain [1] done processing\n",
      "21:53:13 - cmdstanpy - INFO - Chain [1] start processing\n",
      "21:53:14 - cmdstanpy - INFO - Chain [1] done processing\n",
      "21:53:14 - cmdstanpy - INFO - Chain [1] start processing\n",
      "21:53:14 - cmdstanpy - INFO - Chain [1] done processing\n",
      "21:53:14 - cmdstanpy - INFO - Chain [1] start processing\n",
      "21:53:15 - cmdstanpy - INFO - Chain [1] done processing\n",
      "21:53:15 - cmdstanpy - INFO - Chain [1] start processing\n",
      "21:53:15 - cmdstanpy - INFO - Chain [1] done processing\n",
      "21:53:15 - cmdstanpy - INFO - Chain [1] start processing\n",
      "21:53:15 - cmdstanpy - INFO - Chain [1] done processing\n",
      "21:53:16 - cmdstanpy - INFO - Chain [1] start processing\n",
      "21:53:16 - cmdstanpy - INFO - Chain [1] done processing\n",
      "21:53:16 - cmdstanpy - INFO - Chain [1] start processing\n",
      "21:53:16 - cmdstanpy - INFO - Chain [1] done processing\n",
      "21:53:16 - cmdstanpy - INFO - Chain [1] start processing\n",
      "21:53:17 - cmdstanpy - INFO - Chain [1] done processing\n",
      "21:53:17 - cmdstanpy - INFO - Chain [1] start processing\n",
      "21:53:17 - cmdstanpy - INFO - Chain [1] done processing\n",
      "21:53:17 - cmdstanpy - INFO - Chain [1] start processing\n",
      "21:53:17 - cmdstanpy - INFO - Chain [1] done processing\n",
      "21:53:18 - cmdstanpy - INFO - Chain [1] start processing\n",
      "21:53:18 - cmdstanpy - INFO - Chain [1] done processing\n",
      "21:53:18 - cmdstanpy - INFO - Chain [1] start processing\n",
      "21:53:18 - cmdstanpy - INFO - Chain [1] done processing\n",
      "21:53:18 - cmdstanpy - INFO - Chain [1] start processing\n",
      "21:53:18 - cmdstanpy - INFO - Chain [1] done processing\n",
      "21:53:19 - cmdstanpy - INFO - Chain [1] start processing\n",
      "21:53:20 - cmdstanpy - INFO - Chain [1] done processing\n",
      "21:53:21 - cmdstanpy - INFO - Chain [1] start processing\n",
      "21:53:21 - cmdstanpy - INFO - Chain [1] done processing\n",
      "21:53:21 - cmdstanpy - INFO - Chain [1] start processing\n",
      "21:53:21 - cmdstanpy - INFO - Chain [1] done processing\n",
      "21:53:21 - cmdstanpy - INFO - Chain [1] start processing\n",
      "21:53:22 - cmdstanpy - INFO - Chain [1] done processing\n",
      "21:53:22 - cmdstanpy - INFO - Chain [1] start processing\n",
      "21:53:22 - cmdstanpy - INFO - Chain [1] done processing\n",
      "21:53:22 - cmdstanpy - INFO - Chain [1] start processing\n",
      "21:53:22 - cmdstanpy - INFO - Chain [1] done processing\n",
      "21:53:23 - cmdstanpy - INFO - Chain [1] start processing\n",
      "21:53:23 - cmdstanpy - INFO - Chain [1] done processing\n",
      "21:53:23 - cmdstanpy - INFO - Chain [1] start processing\n",
      "21:53:23 - cmdstanpy - INFO - Chain [1] done processing\n",
      "21:53:23 - cmdstanpy - INFO - Chain [1] start processing\n",
      "21:53:23 - cmdstanpy - INFO - Chain [1] done processing\n",
      "21:53:24 - cmdstanpy - INFO - Chain [1] start processing\n",
      "21:53:24 - cmdstanpy - INFO - Chain [1] done processing\n",
      "21:53:24 - cmdstanpy - INFO - Chain [1] start processing\n",
      "21:53:24 - cmdstanpy - INFO - Chain [1] done processing\n",
      "21:53:25 - cmdstanpy - INFO - Chain [1] start processing\n",
      "21:53:25 - cmdstanpy - INFO - Chain [1] done processing\n",
      "21:53:25 - cmdstanpy - INFO - Chain [1] start processing\n",
      "21:53:25 - cmdstanpy - INFO - Chain [1] done processing\n",
      "21:53:26 - cmdstanpy - INFO - Chain [1] start processing\n",
      "21:53:27 - cmdstanpy - INFO - Chain [1] done processing\n",
      "21:53:29 - cmdstanpy - INFO - Chain [1] start processing\n",
      "21:53:29 - cmdstanpy - INFO - Chain [1] done processing\n",
      "21:53:29 - cmdstanpy - INFO - Chain [1] start processing\n",
      "21:53:29 - cmdstanpy - INFO - Chain [1] done processing\n",
      "21:53:29 - cmdstanpy - INFO - Chain [1] start processing\n",
      "21:53:30 - cmdstanpy - INFO - Chain [1] done processing\n",
      "21:53:30 - cmdstanpy - INFO - Chain [1] start processing\n",
      "21:53:30 - cmdstanpy - INFO - Chain [1] done processing\n",
      "21:53:30 - cmdstanpy - INFO - Chain [1] start processing\n",
      "21:53:31 - cmdstanpy - INFO - Chain [1] done processing\n",
      "21:53:31 - cmdstanpy - INFO - Chain [1] start processing\n",
      "21:53:31 - cmdstanpy - INFO - Chain [1] done processing\n",
      "21:53:31 - cmdstanpy - INFO - Chain [1] start processing\n",
      "21:53:32 - cmdstanpy - INFO - Chain [1] done processing\n",
      "21:53:32 - cmdstanpy - INFO - Chain [1] start processing\n",
      "21:53:32 - cmdstanpy - INFO - Chain [1] done processing\n",
      "21:53:33 - cmdstanpy - INFO - Chain [1] start processing\n",
      "21:53:33 - cmdstanpy - INFO - Chain [1] done processing\n",
      "21:53:33 - cmdstanpy - INFO - Chain [1] start processing\n",
      "21:53:33 - cmdstanpy - INFO - Chain [1] done processing\n",
      "21:53:34 - cmdstanpy - INFO - Chain [1] start processing\n",
      "21:53:36 - cmdstanpy - INFO - Chain [1] done processing\n",
      "21:53:36 - cmdstanpy - INFO - Chain [1] start processing\n",
      "21:53:36 - cmdstanpy - INFO - Chain [1] done processing\n",
      "21:53:36 - cmdstanpy - INFO - Chain [1] start processing\n",
      "21:53:36 - cmdstanpy - INFO - Chain [1] done processing\n",
      "21:53:37 - cmdstanpy - INFO - Chain [1] start processing\n",
      "21:53:37 - cmdstanpy - INFO - Chain [1] done processing\n",
      "21:53:37 - cmdstanpy - INFO - Chain [1] start processing\n",
      "21:53:37 - cmdstanpy - INFO - Chain [1] done processing\n",
      "21:53:37 - cmdstanpy - INFO - Chain [1] start processing\n",
      "21:53:38 - cmdstanpy - INFO - Chain [1] done processing\n",
      "21:53:38 - cmdstanpy - INFO - Chain [1] start processing\n",
      "21:53:38 - cmdstanpy - INFO - Chain [1] done processing\n",
      "21:53:38 - cmdstanpy - INFO - Chain [1] start processing\n",
      "21:53:39 - cmdstanpy - INFO - Chain [1] done processing\n",
      "21:53:39 - cmdstanpy - INFO - Chain [1] start processing\n",
      "21:53:39 - cmdstanpy - INFO - Chain [1] done processing\n",
      "21:53:39 - cmdstanpy - INFO - Chain [1] start processing\n",
      "21:53:39 - cmdstanpy - INFO - Chain [1] done processing\n",
      "21:53:40 - cmdstanpy - INFO - Chain [1] start processing\n",
      "21:53:40 - cmdstanpy - INFO - Chain [1] done processing\n",
      "21:53:40 - cmdstanpy - INFO - Chain [1] start processing\n",
      "21:53:40 - cmdstanpy - INFO - Chain [1] done processing\n",
      "21:53:40 - cmdstanpy - INFO - Chain [1] start processing\n",
      "21:53:40 - cmdstanpy - INFO - Chain [1] done processing\n",
      "21:53:42 - cmdstanpy - INFO - Chain [1] start processing\n",
      "21:53:43 - cmdstanpy - INFO - Chain [1] done processing\n",
      "21:53:43 - cmdstanpy - INFO - Chain [1] start processing\n",
      "21:53:43 - cmdstanpy - INFO - Chain [1] done processing\n",
      "21:53:43 - cmdstanpy - INFO - Chain [1] start processing\n",
      "21:53:44 - cmdstanpy - INFO - Chain [1] done processing\n",
      "21:53:44 - cmdstanpy - INFO - Chain [1] start processing\n",
      "21:53:44 - cmdstanpy - INFO - Chain [1] done processing\n",
      "21:53:44 - cmdstanpy - INFO - Chain [1] start processing\n",
      "21:53:44 - cmdstanpy - INFO - Chain [1] done processing\n",
      "21:53:45 - cmdstanpy - INFO - Chain [1] start processing\n",
      "21:53:45 - cmdstanpy - INFO - Chain [1] done processing\n",
      "21:53:45 - cmdstanpy - INFO - Chain [1] start processing\n",
      "21:53:45 - cmdstanpy - INFO - Chain [1] done processing\n",
      "21:53:45 - cmdstanpy - INFO - Chain [1] start processing\n",
      "21:53:46 - cmdstanpy - INFO - Chain [1] done processing\n",
      "21:53:46 - cmdstanpy - INFO - Chain [1] start processing\n",
      "21:53:46 - cmdstanpy - INFO - Chain [1] done processing\n",
      "21:53:46 - cmdstanpy - INFO - Chain [1] start processing\n",
      "21:53:46 - cmdstanpy - INFO - Chain [1] done processing\n",
      "21:53:47 - cmdstanpy - INFO - Chain [1] start processing\n",
      "21:53:47 - cmdstanpy - INFO - Chain [1] done processing\n",
      "21:53:47 - cmdstanpy - INFO - Chain [1] start processing\n",
      "21:53:48 - cmdstanpy - INFO - Chain [1] done processing\n"
     ]
    }
   ],
   "source": [
    "from prophet import Prophet\n",
    "import pandas as pd\n",
    "\n",
    "models = {}\n",
    "forecasts = {}\n",
    "\n",
    "for pizza in pizza_ids:\n",
    "    # Prepare data for Prophet\n",
    "    df = pizza_dfs[pizza][['week_number', 'quantity']].copy()\n",
    "    \n",
    "    # Convert week_number to a date starting from 2016 January 1st week\n",
    "    df['ds'] = pd.to_datetime('2016-01-04') + pd.to_timedelta((df['week_number'] - 1) * 7, unit='D')\n",
    "    df = df.rename(columns={'quantity': 'y'})\n",
    "    \n",
    "    # Create and fit model\n",
    "    model = Prophet()\n",
    "    model.fit(df[['ds', 'y']])\n",
    "    \n",
    "    # Create future dataframe using week numbers\n",
    "    future = model.make_future_dataframe(periods=7, freq='W')\n",
    "    forecast = model.predict(future)\n",
    "\n",
    "    # Map back to week number\n",
    "    forecast['week_number'] = forecast['ds'].dt.isocalendar().week\n",
    "\n",
    "    # Store model and forecast\n",
    "    models[pizza] = model\n",
    "    forecasts[pizza] = forecast[['week_number', 'yhat']]"
   ]
  },
  {
   "cell_type": "code",
   "execution_count": 93,
   "id": "ad746045-c95d-4d3c-b191-c5b89ab8d063",
   "metadata": {},
   "outputs": [
    {
     "name": "stdout",
     "output_type": "stream",
     "text": [
      "   week_number  predicted_quantity pizza_name_id                  pizza_name  \\\n",
      "0            1           20.598004     bbq_ckn_l  The Barbecue Chicken Pizza   \n",
      "1            1           20.598004     bbq_ckn_l  The Barbecue Chicken Pizza   \n",
      "2            1           20.598004     bbq_ckn_l  The Barbecue Chicken Pizza   \n",
      "3            1           20.598004     bbq_ckn_l  The Barbecue Chicken Pizza   \n",
      "4            1           20.598004     bbq_ckn_l  The Barbecue Chicken Pizza   \n",
      "\n",
      "   pizza_ingredients  Items_Qty_In_Grams  total_ingredient_needed  \n",
      "0  Barbecued Chicken                40.0                823.92016  \n",
      "1        Red Peppers                15.0                308.97006  \n",
      "2      Green Peppers                20.0                411.96008  \n",
      "3           Tomatoes                30.0                617.94012  \n",
      "4         Red Onions                60.0               1235.88024  \n"
     ]
    }
   ],
   "source": [
    "purchase_order = pd.DataFrame()\n",
    "for pizza in pizza_ids:\n",
    "    forecast = forecasts[pizza][['week_number', 'yhat']].rename(\n",
    "        columns={'week_number': 'week_number', 'yhat': 'predicted_quantity'}\n",
    "    )\n",
    "    forecast['pizza_name_id'] = pizza\n",
    "    \n",
    "    # Merge with ingredient data\n",
    "    merged = forecast.merge(Ingredients_df, on='pizza_name_id', how='left')\n",
    "\n",
    "    # Use the correct column for ingredient quantity per pizza\n",
    "    merged['total_ingredient_needed'] = merged['predicted_quantity'] * merged['Items_Qty_In_Grams']\n",
    "\n",
    "    purchase_order = pd.concat([purchase_order, merged])\n",
    "# Display the final purchase order\n",
    "print(purchase_order.head())"
   ]
  },
  {
   "cell_type": "code",
   "execution_count": 95,
   "id": "fb4afd2a-a789-4dba-b3f6-449bc70247ec",
   "metadata": {},
   "outputs": [
    {
     "name": "stdout",
     "output_type": "stream",
     "text": [
      "          pizza_ingredients  total_ingredient_needed\n",
      "0             Alfredo Sauce             17283.448932\n",
      "1                 Anchovies             47901.160714\n",
      "2                Artichokes            142106.238450\n",
      "3                   Arugula             16572.542359\n",
      "4             Asiago Cheese             80026.226665\n",
      "..                      ...                      ...\n",
      "59       Sun-dried Tomatoes             21309.751039\n",
      "60  Thai Sweet Chilli Sauce             64306.314352\n",
      "61                    Thyme              2763.299440\n",
      "62                 Tomatoes            668927.171447\n",
      "63                 Zucchini             54260.505639\n",
      "\n",
      "[64 rows x 2 columns]\n"
     ]
    }
   ],
   "source": [
    "purchase_order_summary = purchase_order.groupby('pizza_ingredients')['total_ingredient_needed'].sum().reset_index()\n",
    "print(purchase_order_summary)"
   ]
  },
  {
   "cell_type": "code",
   "execution_count": 99,
   "id": "48ccc8b3-3d4c-4945-827e-8efb965590d4",
   "metadata": {},
   "outputs": [],
   "source": [
    "purchase_order1 = purchase_order.copy()"
   ]
  },
  {
   "cell_type": "code",
   "execution_count": 101,
   "id": "4d20daa3-ca2b-4c7d-86bc-ad78b060a0b0",
   "metadata": {},
   "outputs": [],
   "source": [
    "merged_df = sales_df.merge(purchase_order, on=['week_number', 'pizza_name_id'], how='inner')\n",
    "actual = merged_df['quantity']\n",
    "predicted = merged_df['predicted_quantity']"
   ]
  },
  {
   "cell_type": "code",
   "execution_count": 103,
   "id": "08838c10-2a3d-42b8-b47c-ebbc716718ac",
   "metadata": {},
   "outputs": [
    {
     "name": "stdout",
     "output_type": "stream",
     "text": [
      "MAPE: 12.24%\n"
     ]
    }
   ],
   "source": [
    "from sklearn.metrics import mean_absolute_percentage_error\n",
    "\n",
    "mape = mean_absolute_percentage_error(actual, predicted)\n",
    "print(f\"MAPE: {mape:.2f}%\")"
   ]
  },
  {
   "cell_type": "code",
   "execution_count": 105,
   "id": "7c524c99-57df-41ff-82b4-fb94c15d4ac7",
   "metadata": {},
   "outputs": [
    {
     "data": {
      "text/html": [
       "<div>\n",
       "<style scoped>\n",
       "    .dataframe tbody tr th:only-of-type {\n",
       "        vertical-align: middle;\n",
       "    }\n",
       "\n",
       "    .dataframe tbody tr th {\n",
       "        vertical-align: top;\n",
       "    }\n",
       "\n",
       "    .dataframe thead th {\n",
       "        text-align: right;\n",
       "    }\n",
       "</style>\n",
       "<table border=\"1\" class=\"dataframe\">\n",
       "  <thead>\n",
       "    <tr style=\"text-align: right;\">\n",
       "      <th></th>\n",
       "      <th>pizza_ingredients</th>\n",
       "      <th>total_ingredient_needed</th>\n",
       "    </tr>\n",
       "  </thead>\n",
       "  <tbody>\n",
       "    <tr>\n",
       "      <th>0</th>\n",
       "      <td>Alfredo Sauce</td>\n",
       "      <td>17283.448932</td>\n",
       "    </tr>\n",
       "    <tr>\n",
       "      <th>1</th>\n",
       "      <td>Anchovies</td>\n",
       "      <td>47901.160714</td>\n",
       "    </tr>\n",
       "    <tr>\n",
       "      <th>2</th>\n",
       "      <td>Artichokes</td>\n",
       "      <td>142106.238450</td>\n",
       "    </tr>\n",
       "    <tr>\n",
       "      <th>3</th>\n",
       "      <td>Arugula</td>\n",
       "      <td>16572.542359</td>\n",
       "    </tr>\n",
       "    <tr>\n",
       "      <th>4</th>\n",
       "      <td>Asiago Cheese</td>\n",
       "      <td>80026.226665</td>\n",
       "    </tr>\n",
       "    <tr>\n",
       "      <th>5</th>\n",
       "      <td>Bacon</td>\n",
       "      <td>568687.508596</td>\n",
       "    </tr>\n",
       "    <tr>\n",
       "      <th>6</th>\n",
       "      <td>Barbecue Sauce</td>\n",
       "      <td>30000.694373</td>\n",
       "    </tr>\n",
       "    <tr>\n",
       "      <th>7</th>\n",
       "      <td>Barbecued Chicken</td>\n",
       "      <td>87187.914272</td>\n",
       "    </tr>\n",
       "    <tr>\n",
       "      <th>8</th>\n",
       "      <td>Beef Chuck Roast</td>\n",
       "      <td>168004.953839</td>\n",
       "    </tr>\n",
       "    <tr>\n",
       "      <th>9</th>\n",
       "      <td>Blue Cheese</td>\n",
       "      <td>46990.048812</td>\n",
       "    </tr>\n",
       "  </tbody>\n",
       "</table>\n",
       "</div>"
      ],
      "text/plain": [
       "   pizza_ingredients  total_ingredient_needed\n",
       "0      Alfredo Sauce             17283.448932\n",
       "1          Anchovies             47901.160714\n",
       "2         Artichokes            142106.238450\n",
       "3            Arugula             16572.542359\n",
       "4      Asiago Cheese             80026.226665\n",
       "5              Bacon            568687.508596\n",
       "6     Barbecue Sauce             30000.694373\n",
       "7  Barbecued Chicken             87187.914272\n",
       "8   Beef Chuck Roast            168004.953839\n",
       "9        Blue Cheese             46990.048812"
      ]
     },
     "execution_count": 105,
     "metadata": {},
     "output_type": "execute_result"
    }
   ],
   "source": [
    "purchase_order_summary.head(10)"
   ]
  },
  {
   "cell_type": "code",
   "execution_count": null,
   "id": "01e4dcce-e5da-40c8-9eba-80fb5201506a",
   "metadata": {},
   "outputs": [],
   "source": []
  }
 ],
 "metadata": {
  "kernelspec": {
   "display_name": "Python 3 (ipykernel)",
   "language": "python",
   "name": "python3"
  },
  "language_info": {
   "codemirror_mode": {
    "name": "ipython",
    "version": 3
   },
   "file_extension": ".py",
   "mimetype": "text/x-python",
   "name": "python",
   "nbconvert_exporter": "python",
   "pygments_lexer": "ipython3",
   "version": "3.12.4"
  }
 },
 "nbformat": 4,
 "nbformat_minor": 5
}
